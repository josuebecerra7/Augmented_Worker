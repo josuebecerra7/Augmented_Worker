{
 "cells": [
  {
   "cell_type": "code",
   "execution_count": 1,
   "metadata": {},
   "outputs": [],
   "source": [
    "import cv2\n",
    "import matplotlib.pyplot as plt"
   ]
  },
  {
   "cell_type": "code",
   "execution_count": 2,
   "metadata": {},
   "outputs": [],
   "source": [
    "config_file = 'ssd_mobilenet_v3_large_coco_2020_01_14.pbtxt'\n",
    "frozen_model = 'frozen_inference_graph.pb'"
   ]
  },
  {
   "cell_type": "code",
   "execution_count": 3,
   "metadata": {},
   "outputs": [],
   "source": [
    "classLabels = []\n",
    "file_name = 'coco.names'\n",
    "with open(file_name,'rt') as ftp:\n",
    "    classLabels = ftp.read().rstrip('\\n').split('\\n')"
   ]
  },
  {
   "cell_type": "code",
   "execution_count": 4,
   "metadata": {},
   "outputs": [
    {
     "data": {
      "text/plain": [
       "<dnn_Model 00000254BC08B730>"
      ]
     },
     "execution_count": 4,
     "metadata": {},
     "output_type": "execute_result"
    }
   ],
   "source": [
    "model = cv2.dnn_DetectionModel(frozen_model, config_file)\n",
    "\n",
    "# Resize the images according to the configuration model (320x320)pixels\n",
    "model.setInputSize(320,320)\n",
    "model.setInputScale(1.0/127.5) # 255/2 = 127.5\n",
    "model.setInputMean((127.5,127.5,127.5)) # mobilenet takes [-1,1]\n",
    "model.setInputSwapRB(True)"
   ]
  },
  {
   "cell_type": "code",
   "execution_count": 6,
   "metadata": {},
   "outputs": [],
   "source": [
    "cap = cv2.VideoCapture(0)\n",
    "\n",
    "# Check if the video is opened\n",
    "if not cap.isOpened():\n",
    "    raise IOError(\"Cannot open video\")\n",
    "    \n",
    "font_scale = 1\n",
    "font = cv2.FORMATTER_FMT_PYTHON\n",
    "\n",
    "while True:\n",
    "    ret, frame = cap.read()\n",
    "    ClassIndex, confidence, bbox = model.detect(frame, confThreshold=0.45)\n",
    "    \n",
    " #   print(ClassIndex)\n",
    "    if (len(ClassIndex)!=0):\n",
    "        for ClassInd, conf, boxes in zip(ClassIndex.flatten(), confidence.flatten(), bbox):\n",
    "            if (ClassInd<=91):\n",
    "                cv2.rectangle(frame, boxes, (255,0,0), 2)\n",
    "                cv2.putText(frame,classLabels[ClassInd-1],(boxes[0]+10, boxes[1]+40), font, fontScale=font_scale, color=(15,200,10), thickness=3)\n",
    "    cv2.imshow('Object Detection', frame)\n",
    "    \n",
    "    if cv2.waitKey(2) & 0xFF == ord('q'):\n",
    "        break\n",
    "cap.release()\n",
    "cv2.destroyAllWindows()"
   ]
  },
  {
   "cell_type": "code",
   "execution_count": null,
   "metadata": {},
   "outputs": [],
   "source": []
  }
 ],
 "metadata": {
  "kernelspec": {
   "display_name": "Python 3",
   "language": "python",
   "name": "python3"
  },
  "language_info": {
   "codemirror_mode": {
    "name": "ipython",
    "version": 3
   },
   "file_extension": ".py",
   "mimetype": "text/x-python",
   "name": "python",
   "nbconvert_exporter": "python",
   "pygments_lexer": "ipython3",
   "version": "3.8.3"
  }
 },
 "nbformat": 4,
 "nbformat_minor": 5
}
